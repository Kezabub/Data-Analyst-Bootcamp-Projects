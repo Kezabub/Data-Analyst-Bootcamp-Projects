{
 "cells": [
  {
   "cell_type": "code",
   "execution_count": 13,
   "metadata": {},
   "outputs": [],
   "source": [
    "import csv\n",
    "from textblob import TextBlob"
   ]
  },
  {
   "cell_type": "code",
   "execution_count": 14,
   "metadata": {},
   "outputs": [],
   "source": [
    "infile = 'olist_order_reviews_with_translation_dataset.csv'\n",
    "outfile = 'olist_order_reviews_with_polarity_dataset.csv'"
   ]
  },
  {
   "cell_type": "code",
   "execution_count": 15,
   "metadata": {},
   "outputs": [],
   "source": [
    "with open(infile, 'r', encoding='UTF-8') as csvinput: # specify the encoding of the input file\n",
    "    with open(outfile, 'w', newline='', encoding='UTF-8') as csvoutput: # specify the encoding of the output file\n",
    "        writer = csv.writer(csvoutput)\n",
    "        for row in csv.reader(csvinput):\n",
    "            review = row[9]\n",
    "            if review != '0':\n",
    "                blob = TextBlob(review)\n",
    "                polarity = blob.sentiment.polarity\n",
    "                row.append(polarity)\n",
    "            else:\n",
    "                row.append('')\n",
    "            writer.writerow(row)"
   ]
  }
 ],
 "metadata": {
  "kernelspec": {
   "display_name": "Python 3",
   "language": "python",
   "name": "python3"
  },
  "language_info": {
   "codemirror_mode": {
    "name": "ipython",
    "version": 3
   },
   "file_extension": ".py",
   "mimetype": "text/x-python",
   "name": "python",
   "nbconvert_exporter": "python",
   "pygments_lexer": "ipython3",
   "version": "3.11.3"
  },
  "orig_nbformat": 4
 },
 "nbformat": 4,
 "nbformat_minor": 2
}
