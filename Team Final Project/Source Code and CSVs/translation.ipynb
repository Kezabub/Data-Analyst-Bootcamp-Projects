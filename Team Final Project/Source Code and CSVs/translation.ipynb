{
 "cells": [
  {
   "cell_type": "code",
   "execution_count": 22,
   "metadata": {},
   "outputs": [],
   "source": [
    "import csv\n",
    "import os\n",
    "from google.cloud import translate_v2 as translate"
   ]
  },
  {
   "cell_type": "code",
   "execution_count": 23,
   "metadata": {},
   "outputs": [],
   "source": [
    "os.environ['GOOGLE_APPLICATION_CREDENTIALS'] = 'C:/Users/owenc/Downloads/velvety-mason-390320-867f1b8755e2.json'\n",
    "\n",
    "client = translate.Client()\n",
    "\n",
    "infile = 'olist_order_reviews_dataset.csv'\n",
    "outfile = 'olist_order_reviews_with_translation_dataset.csv'"
   ]
  },
  {
   "cell_type": "code",
   "execution_count": 24,
   "metadata": {},
   "outputs": [],
   "source": [
    "with open(infile, 'r', encoding='ISO-8859-1') as csvinput: # specify the encoding of the input file\n",
    "    with open(outfile, 'w', encoding='UTF-8') as csvoutput: # specify the encoding of the output file\n",
    "        writer = csv.writer(csvoutput)\n",
    "        for row in csv.reader(csvinput):\n",
    "            message = row[4] # species the index of your review column\n",
    "            if message: # check if message is not empty or already in english\n",
    "                result = client.translate(message, source_language='pt-br', target_language='en') # translate from Brazilian Portuguese to English\n",
    "                row.append(result) # append the result dictionary to the row\n",
    "            else:\n",
    "                row.append(message) # keep the original message if it is empty or in english\n",
    "            writer.writerow(row) # write the modified row to the output file"
   ]
  }
 ],
 "metadata": {
  "kernelspec": {
   "display_name": "Python 3",
   "language": "python",
   "name": "python3"
  },
  "language_info": {
   "codemirror_mode": {
    "name": "ipython",
    "version": 3
   },
   "file_extension": ".py",
   "mimetype": "text/x-python",
   "name": "python",
   "nbconvert_exporter": "python",
   "pygments_lexer": "ipython3",
   "version": "3.11.3"
  },
  "orig_nbformat": 4
 },
 "nbformat": 4,
 "nbformat_minor": 2
}
